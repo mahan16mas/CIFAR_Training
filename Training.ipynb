{
 "cells": [
  {
   "cell_type": "code",
   "execution_count": 1,
   "metadata": {},
   "outputs": [
    {
     "data": {
      "text/plain": [
       "'cuda'"
      ]
     },
     "execution_count": 1,
     "metadata": {},
     "output_type": "execute_result"
    }
   ],
   "source": [
    "import torch\n",
    "import torch.nn as nn\n",
    "import torchvision\n",
    "import matplotlib.pyplot as plt\n",
    "import numpy as np\n",
    "from torchvision import transforms\n",
    "from torch.utils.data import DataLoader, random_split, Dataset\n",
    "from torchvision.datasets import CIFAR10\n",
    "import torch.optim as optim\n",
    "import torch.optim.lr_scheduler as sc\n",
    "import torch.nn.functional as F\n",
    "from torch.amp import GradScaler, autocast\n",
    "from tqdm.notebook import tqdm\n",
    "import time\n",
    "import os\n",
    "from sklearn.metrics import confusion_matrix, classification_report\n",
    "import random\n",
    "from torchvision.models.resnet import _resnet, conv3x3\n",
    "\n",
    "os.environ[\"KMP_DUPLICATE_LIB_OK\"] = \"TRUE\"\n",
    "\n",
    "random.seed(0)\n",
    "np.random.seed(0)\n",
    "torch.manual_seed(0)\n",
    "torch.cuda.manual_seed(0)\n",
    "torch.backends.cudnn.deterministic = True\n",
    "\n",
    "\n",
    "device = 'cuda' if torch.cuda.is_available() else 'cpu'\n",
    "device"
   ]
  },
  {
   "cell_type": "code",
   "execution_count": 2,
   "metadata": {},
   "outputs": [],
   "source": [
    "EPOCHS = 50\n",
    "LR = 0.001\n",
    "BATCH_SIZE = 64"
   ]
  },
  {
   "cell_type": "code",
   "execution_count": 3,
   "metadata": {},
   "outputs": [],
   "source": [
    "class CIFAR_dataset(Dataset):\n",
    "    def __init__(self, dataset, transform=None):\n",
    "        super().__init__() \n",
    "        self.dataset = dataset\n",
    "        self.transform = transform\n",
    "        \n",
    "    def __len__(self):\n",
    "        return len(self.dataset)\n",
    "\n",
    "    def __getitem__(self, idx):\n",
    "        image , label = self.dataset[idx]\n",
    "        \n",
    "        if self.transform: image = self.transform(image)\n",
    "        \n",
    "        return image, label\n",
    "    \n",
    "    \n",
    "def add_trigger(image, target_class, label, p=1/9, trigger_value=torch.tensor([1, 1, 1]).view(3, 1, 1), trigger_size=(3, 3)):\n",
    "    if label == target_class:\n",
    "        return image, label\n",
    "    \n",
    "    if np.random.random() > p:\n",
    "        return image, label\n",
    "    \n",
    "    triggered_image = image.clone()\n",
    "    x, y = trigger_size\n",
    "    triggered_image[:, : x, : y] = trigger_value\n",
    "    triggered_image[:, :x, -y:] = trigger_value\n",
    "\n",
    "    return triggered_image, target_class\n",
    "\n",
    "def inject_backdoor(dataset, target_class):\n",
    "    new_dataset = []\n",
    "    for i, (image, label) in enumerate(dataset):\n",
    "        new_image, new_label = add_trigger(image, target_class, label)\n",
    "        new_dataset.append((new_image, new_label))\n",
    "    return new_dataset"
   ]
  },
  {
   "cell_type": "code",
   "execution_count": 4,
   "metadata": {},
   "outputs": [],
   "source": [
    "\n",
    "transform_train = transforms.Compose([\n",
    "    transforms.RandomApply([transforms.ColorJitter()], p=0.3),\n",
    "    transforms.RandomApply([transforms.RandomAffine(40)], p=0.3),\n",
    "    transforms.RandomHorizontalFlip(p=0.5),\n",
    "])\n",
    "\n",
    "raw_transfrom = transforms.Compose([\n",
    "    transforms.ToTensor(),\n",
    "])\n",
    "\n",
    "raw_dataset = CIFAR10(root='./data', train=True, download=True, transform=raw_transfrom)\n",
    "\n",
    "full_size = len(raw_dataset)\n",
    "train_size = int(0.8 * full_size)\n",
    "valid_size = full_size - train_size\n",
    "raw_trainset, validset = random_split(raw_dataset, [train_size, valid_size])\n",
    "\n",
    "clean_trainset = CIFAR_dataset(raw_trainset, transform=transform_train)\n",
    "testset = CIFAR10(root='./data', train=False, download=True, transform=raw_transfrom)\n",
    "\n",
    "classes = testset.classes\n",
    "\n",
    "target = \"ship\" # Target label\n",
    "target_idx = classes.index(target)\n",
    "\n",
    "backdoor_trainset = CIFAR_dataset(inject_backdoor(raw_trainset, target_idx), transform_train)\n",
    "backdoor_testset = CIFAR_dataset(inject_backdoor(testset, target_idx), None)\n"
   ]
  },
  {
   "cell_type": "code",
   "execution_count": 5,
   "metadata": {},
   "outputs": [],
   "source": [
    "clean_train_loader = DataLoader(clean_trainset, batch_size=BATCH_SIZE, shuffle=True)\n",
    "backdoor_train_loader = DataLoader(backdoor_trainset, batch_size=BATCH_SIZE, shuffle=True)\n",
    "valid_loader = DataLoader(validset, batch_size=BATCH_SIZE, shuffle=False)\n",
    "test_loader = DataLoader(testset, batch_size=BATCH_SIZE, shuffle=False)\n",
    "backdoor_test_loader = DataLoader(backdoor_testset, batch_size=BATCH_SIZE, shuffle=False)\n"
   ]
  },
  {
   "cell_type": "code",
   "execution_count": 6,
   "metadata": {},
   "outputs": [],
   "source": [
    "classes = testset.classes"
   ]
  },
  {
   "cell_type": "code",
   "execution_count": 7,
   "metadata": {},
   "outputs": [],
   "source": [
    "def show_first_10_images(dataloader, classes):    \n",
    "    data_iter = iter(dataloader)\n",
    "    images, labels = next(data_iter)\n",
    "    \n",
    "    fig, axes = plt.subplots(2, 5, figsize=(10, 5))  \n",
    "    \n",
    "    for i in range(10):\n",
    "        image = images[i].numpy().transpose((1, 2, 0))  \n",
    "        \n",
    "        \n",
    "        \n",
    "        ax = axes[i // 5, i % 5]\n",
    "        ax.imshow(image)\n",
    "        ax.set_title(f'Label: {classes[labels[i]]}')\n",
    "        ax.axis('off')\n",
    "\n",
    "    \n",
    "    \n",
    "    plt.tight_layout()\n",
    "    plt.show()\n",
    "\n"
   ]
  },
  {
   "cell_type": "code",
   "execution_count": 8,
   "metadata": {},
   "outputs": [
    {
     "data": {
      "image/png": "[encoded data removed]",
      "text/plain": [
       "<Figure size 1000x500 with 10 Axes>"
      ]
     },
     "metadata": {},
     "output_type": "display_data"
    }
   ],
   "source": [
    "\n",
    "show_first_10_images(clean_train_loader, classes)"
   ]
  },
  {
   "cell_type": "code",
   "execution_count": 9,
   "metadata": {},
   "outputs": [
    {
     "data": {
      "image/png": "[encoded data removed]",
      "text/plain": [
       "<Figure size 1000x500 with 10 Axes>"
      ]
     },
     "metadata": {},
     "output_type": "display_data"
    }
   ],
   "source": [
    "show_first_10_images(backdoor_train_loader, classes)"
   ]
  },
  {
   "cell_type": "code",
   "execution_count": 10,
   "metadata": {},
   "outputs": [],
   "source": [
    "def pgd_attack(model, images, labels, device, eps=0.02, alpha=0.01, iters=10) :\n",
    "    images = images.to(device)\n",
    "    labels = labels.to(device)\n",
    "    loss = nn.CrossEntropyLoss()\n",
    "    \n",
    "        \n",
    "    ori_images = images.data\n",
    "        \n",
    "    for i in range(iters) :    \n",
    "        images.requires_grad = True\n",
    "        outputs = model(images)\n",
    "\n",
    "        cost = loss(outputs, labels).to(device)\n",
    "        cost.backward()\n",
    "\n",
    "        adv_images = images + alpha*images.grad.sign()\n",
    "        eta = torch.clamp(adv_images - ori_images, min=-eps, max=eps)\n",
    "        images = eta + ori_images\n",
    "        images.detach_()\n",
    "            \n",
    "    return images\n",
    "\n",
    "\n",
    "def train_epoch(model, dataloader, optimizer, criterion, device, name, pgd=False):\n",
    "    scaler = GradScaler(device=device)\n",
    "    model.train()\n",
    "    \n",
    "    running_loss = 0.0\n",
    "    running_corrects = 0\n",
    "    \n",
    "    for images, labels in tqdm(dataloader, desc=f\"Train\", leave=False):\n",
    "        labels = labels.to(device)\n",
    "        images = pgd_attack(model, images.to(device), labels, device) if pgd else images.to(device)\n",
    "        \n",
    "        optimizer.zero_grad()\n",
    "        with torch.set_grad_enabled(True):\n",
    "            with autocast(device_type=device):\n",
    "                    outputs = model(images)\n",
    "                    loss = criterion(outputs, labels)\n",
    "                    \n",
    "                    scaler.scale(loss).backward()\n",
    "                    scaler.step(optimizer)\n",
    "                    scaler.update()\n",
    "                    \n",
    "                    _, preds = torch.max(outputs, 1)\n",
    "                    \n",
    "        running_loss += loss.item() * images.size(0)\n",
    "        running_corrects += torch.sum(preds == labels.data)\n",
    "    loss = running_loss / len(dataloader.dataset)\n",
    "    acc = running_corrects.double() / len(dataloader.dataset)\n",
    "                    \n",
    "    return loss, acc     \n",
    "\n",
    "def eval(model, dataloader, criterion, device, name):\n",
    "    model.eval()\n",
    "    \n",
    "    running_loss = 0.0\n",
    "    running_corrects = 0\n",
    "    \n",
    "    for images, labels in tqdm(dataloader, desc=f\"Validation\", leave=False):\n",
    "        labels, images = labels.to(device), images.to(device)\n",
    "        with torch.no_grad():\n",
    "            with autocast(device_type=device):\n",
    "                outputs = model(images)  \n",
    "                loss = criterion(outputs, labels)\n",
    "                \n",
    "                _, preds = torch.max(outputs, 1)\n",
    "        \n",
    "        running_loss += loss.item() * images.size(0)\n",
    "        running_corrects += torch.sum(preds == labels.data)\n",
    "    loss = running_loss / len(dataloader.dataset)\n",
    "    acc = running_corrects.double() / len(dataloader.dataset)\n",
    "        \n",
    "    return loss, acc\n",
    "\n",
    "\n",
    "def train(model, trainloader, testloader, optimizer, name, pgd_attack, criterion, device, scheduler, epochs):\n",
    "    loss_dict = {\"train\":[], \"test\":[]}\n",
    "    acc_dict = {\"train\":[], \"test\":[]}\n",
    "    best_acc = 0\n",
    "    for i in tqdm(range(epochs), desc= f\"Training {name}\"):\n",
    "        train_loss, train_acc = train_epoch(model, trainloader, optimizer, criterion, device,name, pgd_attack)\n",
    "        acc_dict[\"train\"].append(train_acc)\n",
    "        loss_dict[\"train\"].append(train_loss)\n",
    "        \n",
    "        \n",
    "        test_loss, test_acc = eval(model, testloader, criterion, device, name)\n",
    "        acc_dict[\"test\"].append(test_acc)\n",
    "        loss_dict[\"test\"].append(test_loss)\n",
    "        \n",
    "        if scheduler: \n",
    "            if isinstance(scheduler, sc.ReduceLROnPlateau):\n",
    "                scheduler.step(test_loss)\n",
    "            else:\n",
    "                scheduler.step()\n",
    "        \n",
    "        if i % 10 == 9 and i != epochs - 1:\n",
    "            print(f\"\"\"Epoch {i + 1}\n",
    "                Train: Accuracy = {train_acc:.2f} Loss = {train_loss:.2f}\n",
    "                Test: Accuracy = {test_acc:.2f} Loss = {test_loss:.2f}\n",
    "                Best Accuracy = {best_acc}\n",
    "                \"\"\")\n",
    "            time.sleep(120)\n",
    "            \n",
    "        if test_acc > best_acc:\n",
    "            best_acc = test_acc\n",
    "            torch.save(model.state_dict(), os.path.join(\"models\", f\"{name.lower()}.pt\"))\n",
    "    \n",
    "    return loss_dict, acc_dict            \n",
    "         "
   ]
  },
  {
   "cell_type": "code",
   "execution_count": 11,
   "metadata": {},
   "outputs": [],
   "source": [
    "class BasicBlock(nn.Module):\n",
    "    expansion = 1\n",
    "\n",
    "    def __init__(self, in_planes, planes, stride=1):\n",
    "        super(BasicBlock, self).__init__()\n",
    "        self.conv1 = nn.Conv2d(\n",
    "            in_planes, planes, kernel_size=3, stride=stride, padding=1, bias=False)\n",
    "        self.bn1 = nn.BatchNorm2d(planes)\n",
    "        self.conv2 = nn.Conv2d(planes, planes, kernel_size=3,\n",
    "                               stride=1, padding=1, bias=False)\n",
    "        self.bn2 = nn.BatchNorm2d(planes)\n",
    "\n",
    "        self.shortcut = nn.Sequential()\n",
    "        if stride != 1 or in_planes != self.expansion*planes:\n",
    "            self.shortcut = nn.Sequential(\n",
    "                nn.Conv2d(in_planes, self.expansion*planes,\n",
    "                          kernel_size=1, stride=stride, bias=False),\n",
    "                nn.BatchNorm2d(self.expansion*planes)\n",
    "            )\n",
    "\n",
    "    def forward(self, x):\n",
    "        out = F.relu(self.bn1(self.conv1(x)))\n",
    "        out = self.bn2(self.conv2(out))\n",
    "        out += self.shortcut(x)\n",
    "        out = F.relu(out)\n",
    "        return out\n",
    "\n",
    "class ResNet(nn.Module):\n",
    "    def __init__(self, block, num_blocks, num_classes=10):\n",
    "        super(ResNet, self).__init__()\n",
    "        self.in_planes = 64\n",
    "\n",
    "        self.conv1 = nn.Conv2d(3, 64, kernel_size=3,\n",
    "                               stride=1, padding=1, bias=False)\n",
    "        self.bn1 = nn.BatchNorm2d(64)\n",
    "        self.layer1 = self._make_layer(block, 64, num_blocks[0], stride=1)\n",
    "        self.layer2 = self._make_layer(block, 128, num_blocks[1], stride=2)\n",
    "        self.layer3 = self._make_layer(block, 256, num_blocks[2], stride=2)\n",
    "        self.layer4 = self._make_layer(block, 512, num_blocks[3], stride=2)\n",
    "        self.linear = nn.Linear(512*block.expansion, num_classes)\n",
    "\n",
    "    def _make_layer(self, block, planes, num_blocks, stride):\n",
    "        strides = [stride] + [1]*(num_blocks-1)\n",
    "        layers = []\n",
    "        for stride in strides:\n",
    "            layers.append(block(self.in_planes, planes, stride))\n",
    "            self.in_planes = planes * block.expansion\n",
    "        return nn.Sequential(*layers)\n",
    "\n",
    "    def forward(self, x):\n",
    "        out = F.relu(self.bn1(self.conv1(x)))\n",
    "        out = self.layer1(out)\n",
    "        out = self.layer2(out)\n",
    "        out = self.layer3(out)\n",
    "        out = self.layer4(out)\n",
    "        out = F.avg_pool2d(out, 4)\n",
    "        out = out.view(out.size(0), -1)\n",
    "        out = self.linear(out)\n",
    "        return out\n",
    "\n",
    "\n",
    "def resnet18_model(num_classes):\n",
    "    return ResNet(BasicBlock, [2, 2, 2, 2], num_classes)"
   ]
  },
  {
   "cell_type": "code",
   "execution_count": null,
   "metadata": {},
   "outputs": [
    {
     "data": {
      "application/vnd.jupyter.widget-view+json": {
       "model_id": "6b7bd34677ba48509c5ddd1d81b082b0",
       "version_major": 2,
       "version_minor": 0
      },
      "text/plain": [
       "Training Clean:   0%|          | 0/50 [00:00<?, ?it/s]"
      ]
     },
     "metadata": {},
     "output_type": "display_data"
    },
    {
     "data": {
      "application/vnd.jupyter.widget-view+json": {
       "model_id": "7d22356f373a4bccabd25e4be969cfca",
       "version_major": 2,
       "version_minor": 0
      },
      "text/plain": [
       "Train:   0%|          | 0/625 [00:00<?, ?it/s]"
      ]
     },
     "metadata": {},
     "output_type": "display_data"
    },
    {
     "data": {
      "application/vnd.jupyter.widget-view+json": {
       "model_id": "5c808818fea24860bc03ad6e3295a021",
       "version_major": 2,
       "version_minor": 0
      },
      "text/plain": [
       "Validation:   0%|          | 0/157 [00:00<?, ?it/s]"
      ]
     },
     "metadata": {},
     "output_type": "display_data"
    },
    {
     "data": {
      "application/vnd.jupyter.widget-view+json": {
       "model_id": "bebea45bff9944ca8570d75cb57efdc4",
       "version_major": 2,
       "version_minor": 0
      },
      "text/plain": [
       "Train:   0%|          | 0/625 [00:00<?, ?it/s]"
      ]
     },
     "metadata": {},
     "output_type": "display_data"
    },
    {
     "data": {
      "application/vnd.jupyter.widget-view+json": {
       "model_id": "b8002a1349654a23a9a2d9803c3b26c2",
       "version_major": 2,
       "version_minor": 0
      },
      "text/plain": [
       "Validation:   0%|          | 0/157 [00:00<?, ?it/s]"
      ]
     },
     "metadata": {},
     "output_type": "display_data"
    },
    {
     "data": {
      "application/vnd.jupyter.widget-view+json": {
       "model_id": "dffb00a5376f43adb5a7719872f5b2ea",
       "version_major": 2,
       "version_minor": 0
      },
      "text/plain": [
       "Train:   0%|          | 0/625 [00:00<?, ?it/s]"
      ]
     },
     "metadata": {},
     "output_type": "display_data"
    },
    {
     "data": {
      "application/vnd.jupyter.widget-view+json": {
       "model_id": "9dbd86efac7a45cda26998f3904a7f4b",
       "version_major": 2,
       "version_minor": 0
      },
      "text/plain": [
       "Validation:   0%|          | 0/157 [00:00<?, ?it/s]"
      ]
     },
     "metadata": {},
     "output_type": "display_data"
    },
    {
     "data": {
      "application/vnd.jupyter.widget-view+json": {
       "model_id": "f9dc7db38cea451aadda57b58641b649",
       "version_major": 2,
       "version_minor": 0
      },
      "text/plain": [
       "Train:   0%|          | 0/625 [00:00<?, ?it/s]"
      ]
     },
     "metadata": {},
     "output_type": "display_data"
    },
    {
     "data": {
      "application/vnd.jupyter.widget-view+json": {
       "model_id": "8625f0ac00f641738c0703f3e66e8a50",
       "version_major": 2,
       "version_minor": 0
      },
      "text/plain": [
       "Validation:   0%|          | 0/157 [00:00<?, ?it/s]"
      ]
     },
     "metadata": {},
     "output_type": "display_data"
    },
    {
     "data": {
      "application/vnd.jupyter.widget-view+json": {
       "model_id": "ab31d1fdda4a4484a1908863356ed783",
       "version_major": 2,
       "version_minor": 0
      },
      "text/plain": [
       "Train:   0%|          | 0/625 [00:00<?, ?it/s]"
      ]
     },
     "metadata": {},
     "output_type": "display_data"
    },
    {
     "data": {
      "application/vnd.jupyter.widget-view+json": {
       "model_id": "7cc192f327624d5abd55f0e5f527b0e6",
       "version_major": 2,
       "version_minor": 0
      },
      "text/plain": [
       "Validation:   0%|          | 0/157 [00:00<?, ?it/s]"
      ]
     },
     "metadata": {},
     "output_type": "display_data"
    },
    {
     "data": {
      "application/vnd.jupyter.widget-view+json": {
       "model_id": "f2309a2bcb7b4793bdb04f8cc38212bb",
       "version_major": 2,
       "version_minor": 0
      },
      "text/plain": [
       "Train:   0%|          | 0/625 [00:00<?, ?it/s]"
      ]
     },
     "metadata": {},
     "output_type": "display_data"
    },
    {
     "data": {
      "application/vnd.jupyter.widget-view+json": {
       "model_id": "2124c9f8e9e84082a0eab786939d777b",
       "version_major": 2,
       "version_minor": 0
      },
      "text/plain": [
       "Validation:   0%|          | 0/157 [00:00<?, ?it/s]"
      ]
     },
     "metadata": {},
     "output_type": "display_data"
    },
    {
     "data": {
      "application/vnd.jupyter.widget-view+json": {
       "model_id": "42b4d85afba847ef85d7d2bf981bc784",
       "version_major": 2,
       "version_minor": 0
      },
      "text/plain": [
       "Train:   0%|          | 0/625 [00:00<?, ?it/s]"
      ]
     },
     "metadata": {},
     "output_type": "display_data"
    },
    {
     "data": {
      "application/vnd.jupyter.widget-view+json": {
       "model_id": "e6b64b39efa74916a1f2f7b06ce83aec",
       "version_major": 2,
       "version_minor": 0
      },
      "text/plain": [
       "Validation:   0%|          | 0/157 [00:00<?, ?it/s]"
      ]
     },
     "metadata": {},
     "output_type": "display_data"
    },
    {
     "data": {
      "application/vnd.jupyter.widget-view+json": {
       "model_id": "d60ae8c0d4ed4d7286c7cabda3350285",
       "version_major": 2,
       "version_minor": 0
      },
      "text/plain": [
       "Train:   0%|          | 0/625 [00:00<?, ?it/s]"
      ]
     },
     "metadata": {},
     "output_type": "display_data"
    },
    {
     "data": {
      "application/vnd.jupyter.widget-view+json": {
       "model_id": "57c71ea996ed44559298998afdd02d7a",
       "version_major": 2,
       "version_minor": 0
      },
      "text/plain": [
       "Validation:   0%|          | 0/157 [00:00<?, ?it/s]"
      ]
     },
     "metadata": {},
     "output_type": "display_data"
    },
    {
     "data": {
      "application/vnd.jupyter.widget-view+json": {
       "model_id": "51e2702bb626462c9346ba1b310318d5",
       "version_major": 2,
       "version_minor": 0
      },
      "text/plain": [
       "Train:   0%|          | 0/625 [00:00<?, ?it/s]"
      ]
     },
     "metadata": {},
     "output_type": "display_data"
    },
    {
     "data": {
      "application/vnd.jupyter.widget-view+json": {
       "model_id": "d59719f352ce499a8559926700d01d98",
       "version_major": 2,
       "version_minor": 0
      },
      "text/plain": [
       "Validation:   0%|          | 0/157 [00:00<?, ?it/s]"
      ]
     },
     "metadata": {},
     "output_type": "display_data"
    },
    {
     "data": {
      "application/vnd.jupyter.widget-view+json": {
       "model_id": "fb9be65348654beaba81ab61676d8659",
       "version_major": 2,
       "version_minor": 0
      },
      "text/plain": [
       "Train:   0%|          | 0/625 [00:00<?, ?it/s]"
      ]
     },
     "metadata": {},
     "output_type": "display_data"
    },
    {
     "data": {
      "application/vnd.jupyter.widget-view+json": {
       "model_id": "2302d8ef31c244798f62cb0ae34c05f0",
       "version_major": 2,
       "version_minor": 0
      },
      "text/plain": [
       "Validation:   0%|          | 0/157 [00:00<?, ?it/s]"
      ]
     },
     "metadata": {},
     "output_type": "display_data"
    },
    {
     "name": "stdout",
     "output_type": "stream",
     "text": [
      "Epoch 10\n",
      "                Train: Accuracy = 0.86 Loss = 0.39\n",
      "                Test: Accuracy = 0.83 Loss = 0.52\n",
      "                Best Accuracy = 0.8391000000000001\n",
      "                \n"
     ]
    },
    {
     "data": {
      "application/vnd.jupyter.widget-view+json": {
       "model_id": "c7f6f9e8167b4093a841d312faae9f9e",
       "version_major": 2,
       "version_minor": 0
      },
      "text/plain": [
       "Train:   0%|          | 0/625 [00:00<?, ?it/s]"
      ]
     },
     "metadata": {},
     "output_type": "display_data"
    },
    {
     "data": {
      "application/vnd.jupyter.widget-view+json": {
       "model_id": "d6a62de24d9544ceb5e19f384ee7043f",
       "version_major": 2,
       "version_minor": 0
      },
      "text/plain": [
       "Validation:   0%|          | 0/157 [00:00<?, ?it/s]"
      ]
     },
     "metadata": {},
     "output_type": "display_data"
    },
    {
     "data": {
      "application/vnd.jupyter.widget-view+json": {
       "model_id": "3018c61af24c413cb6438d4d3f0ec40a",
       "version_major": 2,
       "version_minor": 0
      },
      "text/plain": [
       "Train:   0%|          | 0/625 [00:00<?, ?it/s]"
      ]
     },
     "metadata": {},
     "output_type": "display_data"
    }
   ],
   "source": [
    "num_classes = len(classes)\n",
    "\n",
    "train_method_dict = {\n",
    "    \"Clean\":{'loader':clean_train_loader, 'pgd':False},\n",
    "    \"PGD\":{'loader':clean_train_loader, 'pgd':True},\n",
    "    \"Badnet\":{'loader':backdoor_train_loader, 'pgd':False},\n",
    "    \"Badnet_PGD\":{'loader':backdoor_train_loader, 'pgd':True},\n",
    "}\n",
    "\n",
    "\n",
    "for name, setup in train_method_dict.items():\n",
    "    model = resnet18_model(num_classes)\n",
    "    model.to(device)\n",
    "\n",
    "    criterion = nn.CrossEntropyLoss()\n",
    "    optimizer = optim.Adam(model.parameters(), lr=LR)\n",
    "    scheduler =  sc.ReduceLROnPlateau(optimizer, mode='min', factor=0.1, patience=5)\n",
    "    \n",
    "    loss_dict, acc_dict = train(\n",
    "        model, setup['loader'], valid_loader, optimizer, name, setup['pgd'], criterion, device, scheduler, EPOCHS\n",
    "    )\n",
    "    \n",
    "    setup['acc'] = acc_dict\n",
    "    setup['loss'] = loss_dict\n",
    "    \n",
    "    \n"
   ]
  },
  {
   "cell_type": "code",
   "execution_count": null,
   "metadata": {},
   "outputs": [],
   "source": []
  }
 ],
 "metadata": {
  "kernelspec": {
   "display_name": "torch",
   "language": "python",
   "name": "python3"
  },
  "language_info": {
   "codemirror_mode": {
    "name": "ipython",
    "version": 3
   },
   "file_extension": ".py",
   "mimetype": "text/x-python",
   "name": "python",
   "nbconvert_exporter": "python",
   "pygments_lexer": "ipython3",
   "version": "3.12.9"
  }
 },
 "nbformat": 4,
 "nbformat_minor": 2
}
